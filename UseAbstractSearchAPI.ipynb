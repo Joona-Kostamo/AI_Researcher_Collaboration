{
 "cells": [
  {
   "cell_type": "markdown",
   "id": "560fadf4",
   "metadata": {},
   "source": [
    "# Example snippet for using the abstract based search API"
   ]
  },
  {
   "cell_type": "code",
   "execution_count": 24,
   "id": "e2f048f6",
   "metadata": {},
   "outputs": [
    {
     "name": "stdout",
     "output_type": "stream",
     "text": [
      "Authors                                                                        Pan, YN; Du, PH; Xue, H; Lam, HK\n",
      "Article Title       Singularity-Free Fixed-Time Fuzzy Control for Robotic Systems With User-Defined Performance\n",
      "Publication Year                                                                                         2021.0\n",
      "Name: 8485, dtype: object\n",
      "Authors                                                                                       Wu, GC; Zeng, DQ; Baleanu, D\n",
      "Article Title       FRACTIONAL IMPULSIVE DIFFERENTIAL EQUATIONS: EXACT SOLUTIONS, INTEGRAL EQUATIONS AND SHORT MEMORY CASE\n",
      "Publication Year                                                                                                    2019.0\n",
      "Name: 6586, dtype: object\n",
      "Authors                                                                Wang, HM; Wei, GL; Wen, SP; Huang, TW\n",
      "Article Title       Impulsive disturbance on stability analysis of delayed quaternion-valued neural networks\n",
      "Publication Year                                                                                      2021.0\n",
      "Name: 3883, dtype: object\n"
     ]
    }
   ],
   "source": [
    "import requests\n",
    "import pandas as pd\n",
    "pd.set_option('display.max_colwidth', None)\n",
    "abstract = \"This is an example abstract to be used for the search\"\n",
    "parameters = {'s_number': 3, 'as_json': True, 's_abstract': abstract}\n",
    "response = requests.get('http://168.119.239.210/search_papers',params=parameters)\n",
    "df = pd.read_json(response.url, orient='table')\n",
    "select_columns = [\"Authors\", \"Article Title\", \"Publication Year\"]\n",
    "for i in range(df.shape[0]):\n",
    "    print(df.iloc[i][select_columns])"
   ]
  }
 ],
 "metadata": {
  "kernelspec": {
   "display_name": "Python 3 (ipykernel)",
   "language": "python",
   "name": "python3"
  },
  "language_info": {
   "codemirror_mode": {
    "name": "ipython",
    "version": 3
   },
   "file_extension": ".py",
   "mimetype": "text/x-python",
   "name": "python",
   "nbconvert_exporter": "python",
   "pygments_lexer": "ipython3",
   "version": "3.9.12"
  }
 },
 "nbformat": 4,
 "nbformat_minor": 5
}
